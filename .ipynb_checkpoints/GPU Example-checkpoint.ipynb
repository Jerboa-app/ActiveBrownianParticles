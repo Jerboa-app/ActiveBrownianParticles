{
 "cells": [
  {
   "cell_type": "markdown",
   "id": "b53baf48",
   "metadata": {},
   "source": [
    "### If you have an (nvidia) GPU you can try accelerating the simulation"
   ]
  },
  {
   "cell_type": "code",
   "execution_count": 1,
   "id": "7bd32a4a",
   "metadata": {},
   "outputs": [
    {
     "data": {
      "text/plain": [
       "GPUSteps"
      ]
     },
     "execution_count": 1,
     "metadata": {},
     "output_type": "execute_result"
    }
   ],
   "source": [
    "using GLMakie, LinearAlgebra, Statistics, ProgressMeter, Distances, CUDA\n",
    "\n",
    "include(\"abp-gpu.jl\")"
   ]
  },
  {
   "cell_type": "markdown",
   "id": "29e84677",
   "metadata": {},
   "source": [
    "Uncomment the below cell if you want to not see a preview = faster render"
   ]
  },
  {
   "cell_type": "code",
   "execution_count": 2,
   "id": "6087a054",
   "metadata": {},
   "outputs": [],
   "source": [
    "# # this will tell GLMakie to go as fast as possible\n",
    "# GLMakie.set_window_config!(framerate = Inf, vsync = false)\n",
    "# # # this will suppress the plot window = faster plots + does not takeover your pc\n",
    "# # # trying to plot and display!\n",
    "# GLMakie.inline!(true)"
   ]
  },
  {
   "cell_type": "markdown",
   "id": "567ec1a1",
   "metadata": {},
   "source": [
    "### The code here also includes the possibility of variable particles sizes."
   ]
  },
  {
   "cell_type": "code",
   "execution_count": 8,
   "id": "8f8bd148",
   "metadata": {},
   "outputs": [
    {
     "data": {
      "text/plain": [
       "80.0"
      ]
     },
     "execution_count": 8,
     "metadata": {},
     "output_type": "execute_result"
    }
   ],
   "source": [
    "T = 100000\n",
    "N = 1024\n",
    "L = 80.0"
   ]
  },
  {
   "cell_type": "markdown",
   "id": "f3fd60b8",
   "metadata": {},
   "source": [
    "### The simulation on the GPU is handled with the GPUSteps functions\n",
    "\n",
    "### This encapsulates all the data copying and executes kernels for you!"
   ]
  },
  {
   "cell_type": "code",
   "execution_count": 11,
   "id": "88135a43",
   "metadata": {},
   "outputs": [
    {
     "name": "stderr",
     "output_type": "stream",
     "text": [
      "┌ Info: Simulating\n",
      "└ @ Main In[11]:13\n",
      "\u001b[32mProgress: 100%|█████████████████████████████████████████| Time: 0:01:34\u001b[39m39m\n"
     ]
    }
   ],
   "source": [
    "X = zeros(N,3)\n",
    "for i in 1:N\n",
    "    X[i,1:2] = rand(2)*(L-2).+2\n",
    "    X[i,3] = rand()*2.0*π\n",
    "end\n",
    "\n",
    "Traj = zeros(T,size(X,1),3)\n",
    "Traj[1,:,:] = X\n",
    "\n",
    "Dr = 0.005\n",
    "v0 = 1.0\n",
    "\n",
    "@info \"Simulating\"\n",
    "\n",
    "# should be pretty snappy, compared to the cpu ;)\n",
    "# GTX 1080 ti gets T = 100000, N = 1024 done in ~ 3:13 mins = T / (3 * 60 + 13) = 518 fps!\n",
    "@showprogress for t in 1:T-1\n",
    "    Traj[t+1,:,:] = GPUSteps(Traj[t,:,:],L=L,v0=v0,Dr=Dr)\n",
    "end\n",
    "Traj = Traj[1:1:end,:,:];"
   ]
  },
  {
   "cell_type": "code",
   "execution_count": 12,
   "id": "6bd6d744",
   "metadata": {},
   "outputs": [
    {
     "name": "stderr",
     "output_type": "stream",
     "text": [
      "┌ Info: Rendering\n",
      "└ @ Main In[12]:15\n",
      "\u001b[32mProgress: 100%|█████████████████████████████████████████| Time: 0:04:01\u001b[39mm:47\u001b[39m\n"
     ]
    },
    {
     "data": {
      "text/plain": [
       "\"abp-gpu.mp4\""
      ]
     },
     "execution_count": 12,
     "metadata": {},
     "output_type": "execute_result"
    }
   ],
   "source": [
    "fig = Figure(resolution=(1920,1080),fontsize=90)\n",
    "ax = Axis(fig[1,1],xlabel=L\"x\",ylabel=L\"y\")\n",
    "particles = Node([Point2(Traj[1,i,1:2]...) for i in 1:size(Traj,2)])\n",
    "dir = Node([Point2(cos(Traj[1,i,3]),sin(Traj[1,i,3])) for i in 1:size(Traj,2)])\n",
    "scatter!(ax,particles,markersize=2,markerspace=SceneSpace)\n",
    "\n",
    "ax.aspect = AxisAspect(1)\n",
    "\n",
    "ax.attributes.xgridwidth = 5.\n",
    "ax.attributes.ygridwidth = 5.\n",
    "\n",
    "ax.attributes.xticklabelsize = 40.\n",
    "ax.attributes.yticklabelsize = 40.\n",
    "\n",
    "@info \"Rendering\"\n",
    "\n",
    "times = 1:10:size(Traj,1)\n",
    "prog = Progress(length(times))\n",
    "\n",
    "GLMakie.record(fig, \"abp-gpu.mp4\", collect(times), framerate=60) do i\n",
    "\n",
    "    Cx = mean(Traj[i,:,1])\n",
    "    Cy = mean(Traj[i,:,2])\n",
    "    limits!(ax,0.,L,0.,L)\n",
    "\n",
    "    new_particles = particles[]\n",
    "    new_dir = dir[]\n",
    "    for j in 1:length(new_dir)\n",
    "        new_particles[j] = Point2(Traj[i,j,1:2]...)\n",
    "        new_dir[j] = Point2(cos(Traj[i,j,3]),sin(Traj[i,j,3]))\n",
    "    end\n",
    "\n",
    "    particles[] = new_particles\n",
    "    dir[] = new_dir\n",
    "\n",
    "    next!(prog)\n",
    "end"
   ]
  },
  {
   "cell_type": "code",
   "execution_count": null,
   "id": "d6477cc6",
   "metadata": {},
   "outputs": [],
   "source": []
  }
 ],
 "metadata": {
  "kernelspec": {
   "display_name": "Julia-1.5 nodeps 1.5.0",
   "language": "julia",
   "name": "julia-1.5-nodeps-1.5"
  },
  "language_info": {
   "file_extension": ".jl",
   "mimetype": "application/julia",
   "name": "julia",
   "version": "1.5.0"
  }
 },
 "nbformat": 4,
 "nbformat_minor": 5
}
